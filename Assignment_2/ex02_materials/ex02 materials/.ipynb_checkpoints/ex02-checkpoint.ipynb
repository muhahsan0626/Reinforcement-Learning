{
 "cells": [
  {
   "cell_type": "markdown",
   "metadata": {},
   "source": [
    "<div align=\"center\" style=\"font-family: 'Garamond', serif; color: #333333;\">\n",
    "    <h2 style=\"color: #8b0000; text-decoration: underline; font-variant: small-caps;\">\n",
    "        <span style=\"font-family: 'Courier New', monospace;\">&#9472;</span>\n",
    "        Reinforcement Learning Summer 2024\n",
    "        <span style=\"font-family: 'Courier New', monospace;\">&#9472;</span>\n",
    "    </h2>\n",
    "    <h2 style=\"color: #6c757d;\">Prof. Dr. Frank Kirchner</h2>\n",
    "    <h4 style=\"color: #6c757d; font-style: italic;\">Exercise Sheet – II</h4>\n",
    "    <h5 style=\"color: #6c757d;\">Due: 14.05.25</h5>\n",
    "    <hr style=\"border-top: 2px solid #8b0000; width: 100%;\">\n",
    "</div>"
   ]
  },
  {
   "cell_type": "markdown",
   "metadata": {},
   "source": [
    "# Problem 2.1: Monte Carlo Methods (10 Points)\n",
    "\n",
    "In this task, you are going to implement Monte Carlo learning for a cliffwalking environment.\n",
    "\n",
    "\n",
    "- The agent moves on a 4x12 grid.\n",
    "- The observation space consists of the position of the agent.\n",
    "- The agent starts at (3,0), goal at (3,11).\n",
    "- The agent moves until he reaches the goal without falling into a cliff.\n",
    "- The cliff is at (3,1) to (3,10).\n",
    "- Falling into the cliff gives a reward of -100 and resets the agent to start.\n",
    "- Each step gives -1 reward.\n",
    "- The episode ends when the agent reaches the goal.\n",
    "- Resetting the environment sets the starting values to the start of the grid.\n"
   ]
  },
  {
   "cell_type": "markdown",
   "metadata": {},
   "source": [
    "### **2.1 A: (3 Points)** Implement the Cliffwalking environment in the following cell. The environment must not be implemented with the gymnasium package but has to follow the conventions of their environments (names, methods, returned values, etc.). Rendering is not necessary as the results can be output via the print function. test your implementation thoroughly."
   ]
  },
  {
   "cell_type": "code",
   "execution_count": 1,
   "metadata": {},
   "outputs": [],
   "source": [
    "import numpy as np\n",
    "\n",
    "class CliffWalkingEnv:\n",
    "    def __init__(self):\n",
    "        self.height = 4\n",
    "        self.width = 12\n",
    "        self.start = (3, 0)\n",
    "        self.goal = (3, 11)\n",
    "        self.cliff = [(3, i) for i in range(1, 11)]\n",
    "\n",
    "        # Define action space: 0=Up, 1=Right, 2=Down, 3=Left\n",
    "        self.action_space = 4\n",
    "        self.observation_space = self.height * self.width\n",
    "\n",
    "        self.agent_pos = self.start\n",
    "\n",
    "    def reset(self):\n",
    "        self.agent_pos = self.start\n",
    "        return self._state()\n",
    "\n",
    "    def step(self, action):\n",
    "        row, col = self.agent_pos\n",
    "\n",
    "        # Move based on action\n",
    "        if action == 0:    # Up\n",
    "            row = max(row - 1, 0)\n",
    "        elif action == 1:  # Right\n",
    "            col = min(col + 1, self.width - 1)\n",
    "        elif action == 2:  # Down\n",
    "            row = min(row + 1, self.height - 1)\n",
    "        elif action == 3:  # Left\n",
    "            col = max(col - 1, 0)\n",
    "\n",
    "        new_pos = (row, col)\n",
    "\n",
    "        # Check if new position is cliff\n",
    "        if new_pos in self.cliff:\n",
    "            reward = -100\n",
    "            self.agent_pos = self.start\n",
    "            done = False\n",
    "        elif new_pos == self.goal:\n",
    "            reward = -1\n",
    "            self.agent_pos = new_pos\n",
    "            done = True\n",
    "        else:\n",
    "            reward = -1\n",
    "            self.agent_pos = new_pos\n",
    "            done = False\n",
    "\n",
    "        return self._state(), reward, done, {}\n",
    "\n",
    "    def _state(self):\n",
    "        # Converts (row, col) to state index (0 to 47)\n",
    "        return self.agent_pos[0] * self.width + self.agent_pos[1]\n"
   ]
  },
  {
   "cell_type": "code",
   "execution_count": 2,
   "metadata": {},
   "outputs": [
    {
     "name": "stdout",
     "output_type": "stream",
     "text": [
      "Start state: 36\n",
      "Next state: 36, Reward: -100, Done: False\n"
     ]
    }
   ],
   "source": [
    "env = CliffWalkingEnv()\n",
    "\n",
    "state = env.reset()\n",
    "print(f\"Start state: {state}\")\n",
    "\n",
    "next_state, reward, done, _ = env.step(1)  # move right\n",
    "print(f\"Next state: {next_state}, Reward: {reward}, Done: {done}\")\n"
   ]
  },
  {
   "cell_type": "markdown",
   "metadata": {},
   "source": [
    "### **2.1 B: (3 Points)** Implement the First Visit Monte Carlo learning from the lecture in the following cell. We will use the state-action-values for this task and you should use the predefined variable *q_values* (see hint below) for that. Run the learning for different number of episodes until you are happy with the success. "
   ]
  },
  {
   "cell_type": "code",
   "execution_count": 3,
   "metadata": {},
   "outputs": [],
   "source": [
    "import numpy as np\n",
    "import random\n",
    "from collections import defaultdict\n",
    "\n",
    "class MonteCarlo:\n",
    "\n",
    "    def __init__(self, env, gamma=1.0, epsilon=0.1):\n",
    "        self.env = env\n",
    "        self.gamma = gamma\n",
    "        self.epsilon = epsilon\n",
    "\n",
    "        # Initialize state-action values to zeros\n",
    "        self.q_values = np.zeros((env.observation_space, env.action_space))\n",
    "\n",
    "        # Keep track of returns for averaging\n",
    "        self.returns = defaultdict(list)\n",
    "\n",
    "    def _policy(self, state):\n",
    "        # Epsilon-greedy policy\n",
    "        if random.random() < self.epsilon:\n",
    "            return random.randint(0, self.env.action_space - 1)\n",
    "        else:\n",
    "            return np.argmax(self.q_values[state])\n",
    "\n",
    "    def learning(self, episodes):\n",
    "        for ep in range(episodes):\n",
    "            episode = []\n",
    "            state = self.env.reset()\n",
    "            done = False\n",
    "\n",
    "            # Generate one episode\n",
    "            while not done:\n",
    "                action = self._policy(state)\n",
    "                next_state, reward, done, _ = self.env.step(action)\n",
    "                episode.append((state, action, reward))\n",
    "                state = next_state\n",
    "\n",
    "            # Track first visits\n",
    "            visited = set()\n",
    "            G = 0\n",
    "\n",
    "            for t in reversed(range(len(episode))):\n",
    "                state, action, reward = episode[t]\n",
    "                G = self.gamma * G + reward\n",
    "\n",
    "                if (state, action) not in visited:\n",
    "                    visited.add((state, action))\n",
    "                    self.returns[(state, action)].append(G)\n",
    "                    self.q_values[state, action] = np.mean(self.returns[(state, action)])\n",
    "\n",
    "            if (ep + 1) % 100 == 0:\n",
    "                print(f\"Episode {ep+1}/{episodes} completed.\")\n"
   ]
  },
  {
   "cell_type": "code",
   "execution_count": 4,
   "metadata": {},
   "outputs": [
    {
     "name": "stdout",
     "output_type": "stream",
     "text": [
      "Episode 100/1000 completed.\n",
      "Episode 200/1000 completed.\n",
      "Episode 300/1000 completed.\n",
      "Episode 400/1000 completed.\n",
      "Episode 500/1000 completed.\n",
      "Episode 600/1000 completed.\n",
      "Episode 700/1000 completed.\n",
      "Episode 800/1000 completed.\n",
      "Episode 900/1000 completed.\n",
      "Episode 1000/1000 completed.\n",
      "[[-2.43842105e+02 -2.94774436e+01 -2.92466667e+02 -3.75166667e+02]\n",
      " [-1.32676471e+02 -2.11374359e+01 -1.47969697e+02 -1.70407407e+02]\n",
      " [-4.05483871e+01 -1.65335366e+01 -4.61739130e+01 -2.03818182e+02]\n",
      " [-3.80000000e+01 -3.64848485e+01 -1.51628392e+01 -3.35787879e+02]\n",
      " [-3.04375000e+01 -1.17438776e+01 -2.27805556e+02 -3.75000000e+01]\n",
      " [-3.16216216e+01 -1.02880000e+01 -3.92592593e+01 -3.16400000e+01]\n",
      " [-2.30000000e+01 -9.17800000e+00 -4.03461538e+01 -3.70344828e+01]\n",
      " [-2.25454545e+01 -8.04504505e+00 -4.47407407e+01 -3.42812500e+01]\n",
      " [-3.69482759e+02 -6.84400000e+00 -9.35769231e+01 -4.27586207e+01]\n",
      " [-7.84000000e+00 -5.48448448e+00 -9.12500000e+00 -2.13571429e+01]\n",
      " [-1.30645161e+01 -4.22300000e+00 -1.98695652e+01 -1.55294118e+01]\n",
      " [-4.15625000e+00 -8.00769231e+01 -3.10800000e+00 -1.52413793e+01]\n",
      " [-3.08980769e+01 -1.35693750e+03 -1.94845455e+03 -8.02823529e+02]\n",
      " [-4.94534161e+01 -1.03705882e+03 -1.73353846e+03 -1.96763636e+03]\n",
      " [-3.10185185e+01 -3.37516667e+04 -8.51400000e+02 -4.96360000e+04]\n",
      " [-2.90270270e+01 -1.40402062e+01 -1.11571429e+03 -3.62640000e+02]\n",
      " [-1.29097587e+01 -2.59850000e+03 -1.75275862e+02 -7.24774194e+02]\n",
      " [-1.91235955e+01 -8.54060000e+03 -4.53400000e+03 -1.15367500e+04]\n",
      " [-7.10000000e+02 -1.68102500e+04 -1.07397500e+04 -2.62200000e+01]\n",
      " [-7.13000000e+02 -7.74200000e+03 -5.59633333e+03 -3.97037037e+01]\n",
      " [-8.37586207e+01 -1.94850000e+04 -7.43200000e+03 -1.01540000e+04]\n",
      " [-1.82272727e+01 -2.64600000e+03 -3.50000000e+01 -9.65000000e+03]\n",
      " [-6.82978723e+00 -1.54060000e+04 -1.23940000e+04 -3.39600000e+03]\n",
      " [-7.64814815e+01 -1.14689655e+02 -2.02800000e+00 -1.74082759e+03]\n",
      " [-6.38509434e+01 -3.42850895e+02 -2.84719774e+03 -3.10181624e+01]\n",
      " [-8.86841004e+01 -1.28600556e+04 -4.41817143e+04 -3.72065625e+04]\n",
      " [-4.17800000e+03 -6.31578947e+01 -3.59610000e+05 -2.54779333e+05]\n",
      " [-6.28736842e+02 -1.86386000e+05 -3.77708000e+05 -1.13465000e+05]\n",
      " [-1.80259259e+02 -1.61938000e+05 -5.50048500e+05 -6.91660000e+04]\n",
      " [-5.11460000e+03 -9.75671000e+05 -1.22692000e+05 -1.12843300e+06]\n",
      " [-1.07387500e+04 -6.18321000e+05 -1.39628100e+06 -3.36805000e+05]\n",
      " [-1.65290000e+04 -2.51708000e+05 -1.28500000e+02 -4.27373000e+05]\n",
      " [-7.43100000e+03 -5.01207000e+05 -8.71579000e+05 -9.11313000e+05]\n",
      " [-3.40000000e+01 -2.56271000e+05 -7.16377000e+05 -1.59106400e+06]\n",
      " [-1.78185000e+04 -1.30824700e+06 -2.81459091e+03 -2.24603000e+05]\n",
      " [-1.56276923e+03 -3.25620968e+04 -1.00000000e+00 -6.29271429e+03]\n",
      " [-6.08660000e+01 -1.35644737e+02 -5.67701005e+03 -6.00050510e+03]\n",
      " [ 0.00000000e+00  0.00000000e+00  0.00000000e+00  0.00000000e+00]\n",
      " [ 0.00000000e+00  0.00000000e+00  0.00000000e+00  0.00000000e+00]\n",
      " [ 0.00000000e+00  0.00000000e+00  0.00000000e+00  0.00000000e+00]\n",
      " [ 0.00000000e+00  0.00000000e+00  0.00000000e+00  0.00000000e+00]\n",
      " [ 0.00000000e+00  0.00000000e+00  0.00000000e+00  0.00000000e+00]\n",
      " [ 0.00000000e+00  0.00000000e+00  0.00000000e+00  0.00000000e+00]\n",
      " [ 0.00000000e+00  0.00000000e+00  0.00000000e+00  0.00000000e+00]\n",
      " [ 0.00000000e+00  0.00000000e+00  0.00000000e+00  0.00000000e+00]\n",
      " [ 0.00000000e+00  0.00000000e+00  0.00000000e+00  0.00000000e+00]\n",
      " [ 0.00000000e+00  0.00000000e+00  0.00000000e+00  0.00000000e+00]\n",
      " [ 0.00000000e+00  0.00000000e+00  0.00000000e+00  0.00000000e+00]]\n"
     ]
    }
   ],
   "source": [
    "env = CliffWalkingEnv()\n",
    "mc_agent = MonteCarlo(env)\n",
    "mc_agent.learning(episodes=1000)\n",
    "\n",
    "# Example: Check learned Q-values\n",
    "print(mc_agent.q_values)\n"
   ]
  },
  {
   "cell_type": "markdown",
   "metadata": {},
   "source": [
    "### **2.1 C: (1 Point)** Implement an evaluate_policy() function in the cell below, that uses the obtained state-action-values to run *n* episodes in the CliffWalking environment. Collect the episode wise rewards and plot them for further analysis."
   ]
  },
  {
   "cell_type": "code",
   "execution_count": 8,
   "metadata": {},
   "outputs": [],
   "source": [
    "from matplotlib import pyplot as plt\n",
    "\n",
    "def evaluate_policy(env, q_values, n):\n",
    "    episode_rewards = []\n",
    "\n",
    "    for _ in range(n):\n",
    "        state = env.reset()\n",
    "        done = False\n",
    "        total_reward = 0\n",
    "\n",
    "        while not done:\n",
    "            # Always take the best action (greedy policy)\n",
    "            action = np.argmax(q_values[state])\n",
    "            next_state, reward, done, _ = env.step(action)\n",
    "            total_reward += reward\n",
    "            state = next_state\n",
    "\n",
    "        episode_rewards.append(total_reward)\n",
    "\n",
    "    # Plotting episode-wise rewards\n",
    "    plt.figure(figsize=(10, 5))\n",
    "    plt.plot(episode_rewards)\n",
    "    plt.xlabel('Episode')\n",
    "    plt.ylabel('Total Reward')\n",
    "    plt.title('Policy Evaluation over Episodes')\n",
    "    plt.grid(True)\n",
    "    plt.show()\n"
   ]
  },
  {
   "cell_type": "code",
   "execution_count": 9,
   "metadata": {},
   "outputs": [
    {
     "name": "stdout",
     "output_type": "stream",
     "text": [
      "Episode 100/1000 completed.\n",
      "Episode 200/1000 completed.\n",
      "Episode 300/1000 completed.\n",
      "Episode 400/1000 completed.\n",
      "Episode 500/1000 completed.\n",
      "Episode 600/1000 completed.\n",
      "Episode 700/1000 completed.\n",
      "Episode 800/1000 completed.\n",
      "Episode 900/1000 completed.\n",
      "Episode 1000/1000 completed.\n"
     ]
    },
    {
     "data": {
      "image/png": "[encoded data removed]",
      "text/plain": [
       "<Figure size 1000x500 with 1 Axes>"
      ]
     },
     "metadata": {},
     "output_type": "display_data"
    }
   ],
   "source": [
    "env = CliffWalkingEnv()\n",
    "learner1 = MonteCarlo(env)\n",
    "learner1.learning(episodes=1000)\n",
    "\n",
    "evaluate_policy(env, learner1.q_values, n=100)\n"
   ]
  },
  {
   "cell_type": "markdown",
   "metadata": {},
   "source": [
    "### **2.1 D: (2 Points)** Also implement the every visit MC. Add an attribute in the class initialization method to choose the method."
   ]
  },
  {
   "cell_type": "code",
   "execution_count": 10,
   "metadata": {},
   "outputs": [],
   "source": [
    "import numpy as np\n",
    "import random\n",
    "from collections import defaultdict\n",
    "\n",
    "class MonteCarlo:\n",
    "\n",
    "    def __init__(self, env, gamma=1.0, epsilon=0.1, method=\"first\"):\n",
    "        self.env = env\n",
    "        self.gamma = gamma\n",
    "        self.epsilon = epsilon\n",
    "        self.method = method.lower()  # 'first' or 'every'\n",
    "\n",
    "        self.q_values = np.zeros((env.observation_space, env.action_space))\n",
    "        self.returns = defaultdict(list)\n",
    "\n",
    "    def _policy(self, state):\n",
    "        if random.random() < self.epsilon:\n",
    "            return random.randint(0, self.env.action_space - 1)\n",
    "        return np.argmax(self.q_values[state])\n",
    "\n",
    "    def learning(self, episodes):\n",
    "        for ep in range(episodes):\n",
    "            episode = []\n",
    "            state = self.env.reset()\n",
    "            done = False\n",
    "\n",
    "            # Generate one full episode\n",
    "            while not done:\n",
    "                action = self._policy(state)\n",
    "                next_state, reward, done, _ = self.env.step(action)\n",
    "                episode.append((state, action, reward))\n",
    "                state = next_state\n",
    "\n",
    "            # Calculate returns and update Q-values\n",
    "            G = 0\n",
    "            visited = set()\n",
    "\n",
    "            for t in reversed(range(len(episode))):\n",
    "                state, action, reward = episode[t]\n",
    "                G = self.gamma * G + reward\n",
    "\n",
    "                if self.method == \"first\":\n",
    "                    if (state, action) not in visited:\n",
    "                        self.returns[(state, action)].append(G)\n",
    "                        self.q_values[state, action] = np.mean(self.returns[(state, action)])\n",
    "                        visited.add((state, action))\n",
    "\n",
    "                elif self.method == \"every\":\n",
    "                    self.returns[(state, action)].append(G)\n",
    "                    self.q_values[state, action] = np.mean(self.returns[(state, action)])\n",
    "\n",
    "            if (ep + 1) % 100 == 0:\n",
    "                print(f\"{self.method.title()} Visit - Episode {ep + 1}/{episodes} complete\")\n"
   ]
  },
  {
   "cell_type": "code",
   "execution_count": null,
   "metadata": {},
   "outputs": [
    {
     "name": "stdout",
     "output_type": "stream",
     "text": [
      "First Visit - Episode 100/1000 complete\n",
      "First Visit - Episode 200/1000 complete\n",
      "First Visit - Episode 300/1000 complete\n",
      "First Visit - Episode 400/1000 complete\n",
      "First Visit - Episode 500/1000 complete\n",
      "First Visit - Episode 600/1000 complete\n",
      "First Visit - Episode 700/1000 complete\n",
      "First Visit - Episode 800/1000 complete\n",
      "First Visit - Episode 900/1000 complete\n",
      "First Visit - Episode 1000/1000 complete\n"
     ]
    },
    {
     "data": {
      "image/png": "[encoded data removed]",
      "text/plain": [
       "<Figure size 1000x500 with 1 Axes>"
      ]
     },
     "metadata": {},
     "output_type": "display_data"
    }
   ],
   "source": [
    "env = CliffWalkingEnv()\n",
    "\n",
    "# First Visit MC\n",
    "mc_first = MonteCarlo(env, method=\"first\")\n",
    "mc_first.learning(episodes=1000)\n",
    "evaluate_policy(env, mc_first.q_values, n=100)\n",
    "\n",
    "# Every Visit MC\n",
    "mc_every = MonteCarlo(env, method=\"every\")\n",
    "mc_every.learning(episodes=1000)\n",
    "evaluate_policy(env, mc_every.q_values, n=100)\n"
   ]
  },
  {
   "cell_type": "markdown",
   "metadata": {},
   "source": [
    "### **2.1 E: (1 Point)** Train one first visit and one every visit MC for 1000 episodes. Every 100 training episodes, evaluate the current policy by running 100 test episodes. Record the average cumulative reward from those episodes. Plot the development of the rewards of both versions in two separate graphs.\n"
   ]
  },
  {
   "cell_type": "code",
   "execution_count": null,
   "metadata": {},
   "outputs": [],
   "source": [
    "import matplotlib.pyplot as plt\n",
    "\n",
    "def train_and_evaluate(env, method, total_episodes=1000, eval_interval=100, eval_runs=100):\n",
    "    learner = MonteCarlo(env, method=method)\n",
    "    avg_rewards = []\n",
    "\n",
    "    for ep in range(0, total_episodes + 1, eval_interval):\n",
    "        if ep > 0:\n",
    "            learner.learning(eval_interval)\n",
    "\n",
    "        # Evaluate current policy\n",
    "        total_reward = 0\n",
    "        for _ in range(eval_runs):\n",
    "            state = env.reset()\n",
    "            done = False\n",
    "            episode_reward = 0\n",
    "\n",
    "            while not done:\n",
    "                action = np.argmax(learner.q_values[state])\n",
    "                state, reward, done, _ = env.step(action)\n",
    "                episode_reward += reward\n",
    "\n",
    "            total_reward += episode_reward\n",
    "\n",
    "        avg_reward = total_reward / eval_runs\n",
    "        avg_rewards.append(avg_reward)\n",
    "        print(f\"{method.title()} Visit - Episode {ep}: Avg Reward = {avg_reward}\")\n",
    "\n",
    "    return avg_rewards\n",
    "\n",
    "\n",
    "# Train both learners and collect reward data\n",
    "env1 = CliffWalkingEnv()\n",
    "rewards_first = train_and_evaluate(env1, method=\"first\")\n",
    "\n",
    "env2 = CliffWalkingEnv()\n",
    "rewards_every = train_and_evaluate(env2, method=\"every\")"
   ]
  },
  {
   "cell_type": "code",
   "execution_count": null,
   "metadata": {},
   "outputs": [],
   "source": [
    "# Plot for First-Visit MC\n",
    "plt.figure(figsize=(10, 5))\n",
    "plt.plot(range(0, 1001, 100), rewards_first, marker='o')\n",
    "plt.title('First-Visit Monte Carlo: Reward over Time')\n",
    "plt.xlabel('Training Episodes')\n",
    "plt.ylabel('Average Reward (100 test episodes)')\n",
    "plt.grid(True)\n",
    "plt.show()\n",
    "\n",
    "# Plot for Every-Visit MC\n",
    "plt.figure(figsize=(10, 5))\n",
    "plt.plot(range(0, 1001, 100), rewards_every, marker='o', color='orange')\n",
    "plt.title('Every-Visit Monte Carlo: Reward over Time')\n",
    "plt.xlabel('Training Episodes')\n",
    "plt.ylabel('Average Reward (100 test episodes)')\n",
    "plt.grid(True)\n",
    "plt.show()"
   ]
  },
  {
   "cell_type": "markdown",
   "metadata": {},
   "source": [
    "---\n",
    "# Problem 2.2: Temporal Difference Learning (10 Points)\n",
    "\n",
    "In this exercise, we use the frozen lake environment of the gymnasium framework to implement both temporal difference algorithms from the lecture. During the tasks, think about the following questions regarding the two algorithms. (You do not need to hand in answers to the questions, this is meant to guide your own understanding.)\n",
    "\n",
    "- Which agent reaches the goal (terminal state) faster?\n",
    "- How do the two methods differ with regard to the obtained returns?\n",
    "- Which algorithm learns faster and why?\n",
    "\n",
    "Hand in the final code of the whole exercise as well as a csv-file of the final state-action-values of each subtask.\n",
    "**Make sure to include the environment name, number of episodes, and the update rule in the csv-file names.**"
   ]
  },
  {
   "cell_type": "markdown",
   "metadata": {},
   "source": [
    "### **2.2 A: (4 Points)** Read through the [documentation](https://gymnasium.farama.org/environments/toy_text/frozen_lake/) and implement both the SARSA-Algorithms and the Q-Learning by Watkins in the cell below. Do not modify the function parameters and the returned values. \n",
    "   The base configuration of the agent for the experiments should be as follows:\n",
    "   - $epsilon\\_decay = 1.0$\n",
    "   - $gamma = 1.0$ (the discount factor)\n",
    "   - Initial Q-values $init\\_value = 0.0$ and $alpha= 0.1$ (learning rate)\n",
    "   Test your implementation with the frozen lake environment for 2000 episodes and give out the final state-action-values."
   ]
  },
  {
   "cell_type": "code",
   "execution_count": 5,
   "metadata": {},
   "outputs": [],
   "source": [
    "import numpy as np\n",
    "import sys\n",
    "import seaborn as sns\n",
    "from matplotlib import pyplot as plt\n",
    "\n",
    "class TDLearning:\n",
    "\n",
    "    def __init__(self, env, env_name=\"frozenlake\"):\n",
    "        self.env = env\n",
    "        self.env_name = env_name\n",
    "        self.action_states = np.zeros((self.env.observation_space.n, self.env.action_space.n))\n",
    "\n",
    "    def e_greedy(self, state, epsilon):\n",
    "        pass\n",
    "        #return action\n",
    "    \n",
    "    def learning(self, episodes, update_rule='SARSA', alpha=1.0, gamma=1.0, init_value=0.0, epsilon=0.5, epsilon_decay=1.0):\n",
    "        if update_rule not in ['SARSA', 'WatkinsQ']:\n",
    "            sys.exit('Unknown update_rule, use either \\'SARSA\\' or \\'WatkinsQ\\' !')\n",
    "        #return self.action_states, trajectories\n",
    "    \n",
    "    \n",
    "    def plot_q_values_map(self, map_size):\n",
    "        # TODO: Implement a function to visualize the learned Q-values\n",
    "       pass\n"
   ]
  },
  {
   "cell_type": "markdown",
   "metadata": {},
   "source": [
    " ### **2.2 B: (1 Point)** Run the test with the `is_slippery` parameter set to True. You may need to increase the number of episodes to 5000 to see the difference. Print out the state-action-values. Think about the results."
   ]
  },
  {
   "cell_type": "code",
   "execution_count": null,
   "metadata": {},
   "outputs": [],
   "source": [
    "import numpy as np\n",
    "import gymnasium as gym\n",
    "\n",
    "# make environment with chosen options\n",
    "\n",
    "#env = gym.make('FrozenLake-v1', render_mode=\"rgb_array\", desc=None, map_name=\"4x4\", is_slippery=False)\n",
    "#learner = TDLearning(env)\n",
    "\n",
    "#env = gym.make('CliffWalking-v0', render_mode=\"rgb_array\")\n",
    "#learner = TDLearning(env, \"cliffwalking\")\n",
    "\n",
    "learner.learning(2000, \"SARSA\",alpha=0.1)\n",
    "learner.plot_q_values_map((4,4))\n",
    "\n",
    "env.close()"
   ]
  },
  {
   "cell_type": "markdown",
   "metadata": {},
   "source": [
    "### **2.3 C: (1 Point)** Set the size of the frozen lake environment to 8x8 with the `is_slippery` parameter set to False. Increase the number of episodes until you see a meaningful result in the state-action-values (This might not work). What are your thoughts on this? How could you improve the learning time?"
   ]
  },
  {
   "cell_type": "code",
   "execution_count": null,
   "metadata": {},
   "outputs": [],
   "source": [
    "# TODO: Set appropriate parameters and number of episodes\n",
    "# TODO: Analyze the results and consider ways to improve learning time"
   ]
  },
  {
   "cell_type": "markdown",
   "metadata": {},
   "source": [
    "### **2.4 D: (2 Points)** Adjust your implementation so that it also works with the [cliff walking](https://gymnasium.farama.org/environments/toy_text/cliff_walking/) environment. Test it with 200, 500, and 1000 episodes. Why is the progress for this environment faster? How do the best actions change with the increased number of episodes? Save the results of the 1000 episode test."
   ]
  },
  {
   "cell_type": "code",
   "execution_count": null,
   "metadata": {},
   "outputs": [],
   "source": [
    "# Analyze the progress and the best actions for different episode counts"
   ]
  },
  {
   "cell_type": "markdown",
   "metadata": {},
   "source": [
    "### **2.4 E: (2 Points)** Add a visualization function which plots the final state next to the grid where the best directions are shown (see Figure below).Run the tests again and verify that the visualization works properly for all settings. Include one graphic for both the frozen lake and the cliff walking.\n",
    "<p style=\"text-align:center;\">\n",
    "<img src=\"frozen.png\" alt=\"Frozen Lake results with WatkinsQ and 2000 episodes\" width=\"900\">\n",
    "</p>\n",
    "   *Hint: You can use the heatmap from the seaborn package with annotations.*"
   ]
  },
  {
   "cell_type": "code",
   "execution_count": null,
   "metadata": {},
   "outputs": [],
   "source": [
    "# Include one graphic for both environments"
   ]
  },
  {
   "cell_type": "markdown",
   "metadata": {},
   "source": [
    "<div align=\"center\" style=\"font-family: 'Garamond', serif; color: #333333;\">\n",
    "    <hr style=\"border-top: 2px solid #8b0000; width: 100%;\">\n",
    "    <p style=\"color: #6c757d;\">\n",
    "        Please upload your submission via StudIP by 23:59 on May 14, 2025. If you encounter any issues with the upload process, please contact me in advance at <a href=\"mailto:laux@uni-bremen.de\" style=\"color: #8b0000;\">laux@uni-bremen.de</a>. Your submission must include:\n",
    "    </p>\n",
    "    <ul style=\"list-style-type: none; color: #6c757d;\">\n",
    "        <li>&#9472; A well-documented, precompiled notebook, containing the entire solution(s) along with outputs and plots if applicable</li>\n",
    "        <li>&#9472; A markdown cell with the names and e-mail addresses of the contributing team members</li>\n",
    "    </ul>\n",
    "    <hr style=\"border-top: 2px solid #8b0000; width: 100%;\">\n",
    "</div>"
   ]
  }
 ],
 "metadata": {
  "kernelspec": {
   "display_name": "Python 3 (ipykernel)",
   "language": "python",
   "name": "python3"
  },
  "language_info": {
   "codemirror_mode": {
    "name": "ipython",
    "version": 3
   },
   "file_extension": ".py",
   "mimetype": "text/x-python",
   "name": "python",
   "nbconvert_exporter": "python",
   "pygments_lexer": "ipython3",
   "version": "3.12.0"
  }
 },
 "nbformat": 4,
 "nbformat_minor": 4
}
